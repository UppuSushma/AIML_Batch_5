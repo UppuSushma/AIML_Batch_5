{
  "nbformat": 4,
  "nbformat_minor": 0,
  "metadata": {
    "colab": {
      "provenance": [],
      "include_colab_link": true
    },
    "kernelspec": {
      "name": "python3",
      "display_name": "Python 3"
    },
    "language_info": {
      "name": "python"
    }
  },
  "cells": [
    {
      "cell_type": "markdown",
      "metadata": {
        "id": "view-in-github",
        "colab_type": "text"
      },
      "source": [
        "<a href=\"https://colab.research.google.com/github/UppuSushma/AIML_Batch_5/blob/main/ASSIGNMENT_1.ipynb\" target=\"_parent\"><img src=\"https://colab.research.google.com/assets/colab-badge.svg\" alt=\"Open In Colab\"/></a>"
      ]
    },
    {
      "cell_type": "markdown",
      "source": [
        "## Part-I Implement Basic Data Structures Using Numpy,Pandas\n"
      ],
      "metadata": {
        "id": "lBoR2NwDJD_a"
      }
    },
    {
      "cell_type": "markdown",
      "source": [
        "1. List"
      ],
      "metadata": {
        "id": "AZxX7JomJyMV"
      }
    },
    {
      "cell_type": "code",
      "source": [
        "var = [1,2,3,4,5,6,\"sushma\"]\n",
        "print(var)"
      ],
      "metadata": {
        "colab": {
          "base_uri": "https://localhost:8080/"
        },
        "id": "fKyC3dI8J1cB",
        "outputId": "0ebe8401-74a7-4b4b-9186-6fa89a18f70b"
      },
      "execution_count": 3,
      "outputs": [
        {
          "output_type": "stream",
          "name": "stdout",
          "text": [
            "[1, 2, 3, 4, 5, 6, 'sushma']\n"
          ]
        }
      ]
    },
    {
      "cell_type": "code",
      "source": [
        "var.append('hello')\n",
        "print(var)"
      ],
      "metadata": {
        "colab": {
          "base_uri": "https://localhost:8080/"
        },
        "id": "9BvnBlCLKu8S",
        "outputId": "7779b46b-1120-472f-f9a0-3b183e53b941"
      },
      "execution_count": 4,
      "outputs": [
        {
          "output_type": "stream",
          "name": "stdout",
          "text": [
            "[1, 2, 3, 4, 5, 6, 'sushma', 'hello']\n"
          ]
        }
      ]
    },
    {
      "cell_type": "code",
      "source": [
        "var.pop(3)\n",
        "print(var)"
      ],
      "metadata": {
        "colab": {
          "base_uri": "https://localhost:8080/"
        },
        "id": "m8KyfDnLL1LI",
        "outputId": "3ec834b1-d6b7-4b91-c542-50beca5fc92c"
      },
      "execution_count": 5,
      "outputs": [
        {
          "output_type": "stream",
          "name": "stdout",
          "text": [
            "[1, 2, 3, 5, 6, 'sushma', 'hello']\n"
          ]
        }
      ]
    },
    {
      "cell_type": "code",
      "source": [
        "var.insert(3,4)\n",
        "var.insert(4,5)\n",
        "print(var)"
      ],
      "metadata": {
        "colab": {
          "base_uri": "https://localhost:8080/"
        },
        "id": "SPPAxrnbMEl-",
        "outputId": "2f25786b-cf22-4eeb-c281-0500345e2d5c"
      },
      "execution_count": 6,
      "outputs": [
        {
          "output_type": "stream",
          "name": "stdout",
          "text": [
            "[1, 2, 3, 4, 5, 5, 6, 'sushma', 'hello']\n"
          ]
        }
      ]
    },
    {
      "cell_type": "code",
      "source": [
        "var.pop()\n",
        "print(var)"
      ],
      "metadata": {
        "colab": {
          "base_uri": "https://localhost:8080/"
        },
        "id": "ch2plCgLNRFt",
        "outputId": "d707cab1-3152-44c2-ff99-3a383384532c"
      },
      "execution_count": 7,
      "outputs": [
        {
          "output_type": "stream",
          "name": "stdout",
          "text": [
            "[1, 2, 3, 4, 5, 5, 6, 'sushma']\n"
          ]
        }
      ]
    },
    {
      "cell_type": "markdown",
      "source": [
        "  2. Array"
      ],
      "metadata": {
        "id": "3X5JLYLiKEKN"
      }
    },
    {
      "cell_type": "code",
      "source": [
        "import numpy as np\n",
        "arr = np.array([1, 2, 3, 4, 5])\n",
        "print(arr)"
      ],
      "metadata": {
        "colab": {
          "base_uri": "https://localhost:8080/"
        },
        "id": "OvdL5TiwKGeU",
        "outputId": "f6b89c20-8068-4fe2-8f9c-cf8154cae482"
      },
      "execution_count": null,
      "outputs": [
        {
          "output_type": "stream",
          "name": "stdout",
          "text": [
            "[1 2 3 4 5]\n"
          ]
        }
      ]
    },
    {
      "cell_type": "markdown",
      "source": [
        "3. Identify their type using type"
      ],
      "metadata": {
        "id": "2-L9lFrYMgUU"
      }
    },
    {
      "cell_type": "code",
      "source": [
        "print(type(var))\n",
        "print(type(arr))"
      ],
      "metadata": {
        "colab": {
          "base_uri": "https://localhost:8080/"
        },
        "id": "rL-iXYbuMhVU",
        "outputId": "0b50ac04-88e9-4271-ffb8-4575f7ae3ea8"
      },
      "execution_count": null,
      "outputs": [
        {
          "output_type": "stream",
          "name": "stdout",
          "text": [
            "<class 'list'>\n",
            "<class 'numpy.ndarray'>\n"
          ]
        }
      ]
    },
    {
      "cell_type": "markdown",
      "source": [
        "4. Perform mathematical operations on these datasets created - multiplication, division, poweroff"
      ],
      "metadata": {
        "id": "-_W1wcqCM61U"
      }
    },
    {
      "cell_type": "code",
      "source": [
        "print(\"List =\", var)\n",
        "\n",
        "add = var[0] + var[1]\n",
        "print(\"Addition =\", add)\n",
        "\n",
        "mul = var[0] * var[1]\n",
        "print(\"Multiplication =\", mul)\n",
        "\n",
        "div = var[0] / var[1]\n",
        "print(\"Division =\", div)\n",
        "\n",
        "power = var[0] ** var[1]\n",
        "print(\"Power =\", power)\n"
      ],
      "metadata": {
        "colab": {
          "base_uri": "https://localhost:8080/"
        },
        "id": "JieWOBadOYiW",
        "outputId": "d546a835-104d-4e41-d5f0-ea594ec62f10"
      },
      "execution_count": null,
      "outputs": [
        {
          "output_type": "stream",
          "name": "stdout",
          "text": [
            "List = [1, 2, 3, 4, 5, 6]\n",
            "Addition = 3\n",
            "Multiplication = 2\n",
            "Division = 0.5\n",
            "Power = 1\n"
          ]
        }
      ]
    },
    {
      "cell_type": "markdown",
      "source": [
        "5. Combine text with Numpy fuction to generate a textual output - ”Addition of Two: array1 +array 2"
      ],
      "metadata": {
        "id": "YaLWIFy0Kcy8"
      }
    },
    {
      "cell_type": "code",
      "source": [
        "arr1 = np.array([1,2,3,4,5])\n",
        "arr2 = np.array([6,7,8,9,10])\n",
        "\n",
        "res = np.add(arr1,arr2)\n",
        "print(\"the result of \",arr1,\"+\",arr2,\"=\",res)"
      ],
      "metadata": {
        "colab": {
          "base_uri": "https://localhost:8080/"
        },
        "id": "eVLbtz9tQNCh",
        "outputId": "892bebf7-eada-4671-ed72-62a5c0004764"
      },
      "execution_count": null,
      "outputs": [
        {
          "output_type": "stream",
          "name": "stdout",
          "text": [
            "the result of  [1 2 3 4 5] + [ 6  7  8  9 10] = [ 7  9 11 13 15]\n"
          ]
        }
      ]
    },
    {
      "cell_type": "markdown",
      "source": [
        "6. Implement np.sin(), log(), log2(), np.exp()"
      ],
      "metadata": {
        "id": "A3P-HJvkR_JB"
      }
    },
    {
      "cell_type": "code",
      "source": [
        "import numpy as np\n",
        "\n",
        "a = np.sin(90)\n",
        "b = np.log(1)\n",
        "c = np.log2(0)\n",
        "d = np.exp(0)\n",
        "\n",
        "print(\"np.sin(90) =\", round(a))\n",
        "print(\"np.log(1) =\", b)\n",
        "print(\"np.log2(0) =\", c)\n",
        "print(\"np.exp(0) =\", d)"
      ],
      "metadata": {
        "colab": {
          "base_uri": "https://localhost:8080/"
        },
        "id": "6Sz-WDL2SDKN",
        "outputId": "c1de59d6-f003-4121-b811-5bcfdee57116"
      },
      "execution_count": null,
      "outputs": [
        {
          "output_type": "stream",
          "name": "stdout",
          "text": [
            "np.sin(90) = 1\n",
            "np.log(1) = 0.0\n",
            "np.log2(0) = -inf\n",
            "np.exp(0) = 1.0\n"
          ]
        },
        {
          "output_type": "stream",
          "name": "stderr",
          "text": [
            "<ipython-input-31-5b7460b62095>:5: RuntimeWarning: divide by zero encountered in log2\n",
            "  c = np.log2(0)\n"
          ]
        }
      ]
    },
    {
      "cell_type": "markdown",
      "source": [
        "##Part 2 – Visualization of Data using matplotlib, pyplots Packages"
      ],
      "metadata": {
        "id": "TwMdR4xgWUI2"
      }
    },
    {
      "cell_type": "markdown",
      "source": [
        "1. Generate a Data set for Health Care using the following: people = [’kiran’, arun’, ’vijay’, ’varun’]\n",
        "age =[25, 30, 35, 40, 45]\n",
        "height =[145, 151, 165, 173]\n",
        "weight=[45, 55, 65, 75]"
      ],
      "metadata": {
        "id": "rXDvnjozWXOR"
      }
    },
    {
      "cell_type": "code",
      "source": [
        "import pandas as pd\n",
        "\n",
        "people = ['kiran', 'arun', 'vijay', 'varun']\n",
        "age = [25, 30, 35, 40]\n",
        "height = [145, 151, 165, 173]\n",
        "weight = [45, 55, 65, 75]\n",
        "\n",
        "healthcare_data = pd.DataFrame({\n",
        "    'Name': people,\n",
        "    'Age': age,\n",
        "    'Height': height,\n",
        "    'Weight': weight\n",
        "})\n",
        "\n",
        "print(healthcare_data)"
      ],
      "metadata": {
        "colab": {
          "base_uri": "https://localhost:8080/"
        },
        "id": "CLVAI4FuZGEg",
        "outputId": "27cd3431-8164-45d1-92d2-024e4d61bea0"
      },
      "execution_count": null,
      "outputs": [
        {
          "output_type": "stream",
          "name": "stdout",
          "text": [
            "    Name  Age  Height  Weight\n",
            "0  kiran   25     145      45\n",
            "1   arun   30     151      55\n",
            "2  vijay   35     165      65\n",
            "3  varun   40     173      75\n"
          ]
        }
      ]
    },
    {
      "cell_type": "markdown",
      "source": [
        "2. Using the generated dataset given above. Generate the following graphs and justify the relationships among the vectors."
      ],
      "metadata": {
        "id": "Y6ZJeekbZON9"
      }
    },
    {
      "cell_type": "code",
      "source": [
        "import numpy as np\n",
        "import matplotlib.pyplot as plt\n",
        "\n",
        "x = np.array([1, 2, 3, 4, 5])\n",
        "y = np.array([2, 4, 6, 8, 10])\n",
        "\n",
        "plt.scatter(x, y)\n",
        "plt.title('Scatter Plot')\n",
        "plt.xlabel('X-axis')\n",
        "plt.ylabel('Y-axis')\n",
        "plt.show()\n"
      ],
      "metadata": {
        "colab": {
          "base_uri": "https://localhost:8080/",
          "height": 472
        },
        "id": "8aFvIaNUUM9q",
        "outputId": "09c5fcdc-d7f7-471d-a669-b75bdc09e62c"
      },
      "execution_count": null,
      "outputs": [
        {
          "output_type": "display_data",
          "data": {
            "text/plain": [
              "<Figure size 640x480 with 1 Axes>"
            ],
            "image/png": "[encoded data removed]"
          },
          "metadata": {}
        }
      ]
    },
    {
      "cell_type": "markdown",
      "source": [
        "3. Scatter Plot"
      ],
      "metadata": {
        "id": "FtpKOgpXUSow"
      }
    },
    {
      "cell_type": "code",
      "source": [
        "import matplotlib.pyplot as plt\n",
        "\n",
        "your_x_data = [1, 2, 3, 4, 5]\n",
        "your_y_data = [2, 4, 1, 3, 5]\n",
        "\n",
        "plt.scatter(your_x_data, your_y_data, label='Scatter Plot')\n",
        "plt.title('Scatter Plot')\n",
        "plt.xlabel('X-axis')\n",
        "plt.ylabel('Y-axis')\n",
        "plt.legend()\n",
        "plt.show()\n"
      ],
      "metadata": {
        "colab": {
          "base_uri": "https://localhost:8080/",
          "height": 472
        },
        "id": "biQT4MiEUVzr",
        "outputId": "a119445d-66e0-4d1b-9231-a43cf0986f8f"
      },
      "execution_count": null,
      "outputs": [
        {
          "output_type": "display_data",
          "data": {
            "text/plain": [
              "<Figure size 640x480 with 1 Axes>"
            ],
            "image/png": "[encoded data removed]"
          },
          "metadata": {}
        }
      ]
    },
    {
      "cell_type": "markdown",
      "source": [
        "4. Bar Chart\n"
      ],
      "metadata": {
        "id": "C3uPbU2VUdVF"
      }
    },
    {
      "cell_type": "code",
      "source": [
        "import matplotlib.pyplot as plt\n",
        "\n",
        "your_categories = ['Category 1', 'Category 2', 'Category 3', 'Category 4', 'Category 5']\n",
        "your_values = [10, 24, 15, 30, 18]\n",
        "\n",
        "plt.bar(your_categories, your_values, color='blue', alpha=0.7)\n",
        "plt.title('Bar Chart')\n",
        "plt.xlabel('Categories')\n",
        "plt.ylabel('Values')\n",
        "plt.show()\n"
      ],
      "metadata": {
        "colab": {
          "base_uri": "https://localhost:8080/",
          "height": 472
        },
        "id": "--GU0P4vUhQL",
        "outputId": "84091035-882b-4e09-fc8e-a55b2d9fea1d"
      },
      "execution_count": null,
      "outputs": [
        {
          "output_type": "display_data",
          "data": {
            "text/plain": [
              "<Figure size 640x480 with 1 Axes>"
            ],
            "image/png": "[encoded data removed]"
          },
          "metadata": {}
        }
      ]
    },
    {
      "cell_type": "markdown",
      "source": [
        "5. Histogram"
      ],
      "metadata": {
        "id": "Yc3Qn0Z1U2Zp"
      }
    },
    {
      "cell_type": "code",
      "source": [
        "import matplotlib.pyplot as plt\n",
        "\n",
        "your_data = [2, 3, 3, 4, 4, 4, 5, 5, 6, 7, 7, 7, 7, 8, 8, 8, 8, 9, 9, 10]\n",
        "\n",
        "plt.hist(your_data, bins=10, color='green', alpha=0.7)\n",
        "plt.title('Histogram')\n",
        "plt.xlabel('Values')\n",
        "plt.ylabel('Frequency')\n",
        "plt.show()\n"
      ],
      "metadata": {
        "colab": {
          "base_uri": "https://localhost:8080/",
          "height": 472
        },
        "id": "h71w_s7vU5CH",
        "outputId": "56386605-8f55-46b2-fd9d-146af75ec3a4"
      },
      "execution_count": null,
      "outputs": [
        {
          "output_type": "display_data",
          "data": {
            "text/plain": [
              "<Figure size 640x480 with 1 Axes>"
            ],
            "image/png": "[encoded data removed]"
          },
          "metadata": {}
        }
      ]
    },
    {
      "cell_type": "markdown",
      "source": [
        "6. Provide Graph Title, labels for X, Y axis with proper justification and explaination of the graph.\n"
      ],
      "metadata": {
        "id": "1jaIHbRfWUaU"
      }
    },
    {
      "cell_type": "code",
      "source": [
        "import matplotlib.pyplot as plt\n",
        "\n",
        "your_data = [2, 3, 3, 4, 4, 4, 5, 5, 6, 7, 7, 7, 7, 8, 8, 8, 8, 9, 9, 10]\n",
        "\n",
        "plt.hist(your_data, bins=10, color='green', alpha=0.7)\n",
        "plt.title('Distribution of Values')\n",
        "plt.xlabel('Values')\n",
        "plt.ylabel('Frequency')\n",
        "plt.show()\n"
      ],
      "metadata": {
        "colab": {
          "base_uri": "https://localhost:8080/",
          "height": 472
        },
        "id": "OFeL4JnKWXTc",
        "outputId": "cd91c959-25b2-4f94-884d-d8b7d6f29aed"
      },
      "execution_count": null,
      "outputs": [
        {
          "output_type": "display_data",
          "data": {
            "text/plain": [
              "<Figure size 640x480 with 1 Axes>"
            ],
            "image/png": "[encoded data removed]"
          },
          "metadata": {}
        }
      ]
    },
    {
      "cell_type": "markdown",
      "source": [],
      "metadata": {
        "id": "mGaBgzWWXleF"
      }
    },
    {
      "cell_type": "markdown",
      "source": [
        "Part 3 – Access Data from Various Data Sources using builtin Function of Numpy, Pandas\n"
      ],
      "metadata": {
        "id": "sV26z-BAYKoM"
      }
    },
    {
      "cell_type": "markdown",
      "source": [
        "1. Generate your own dataset using MS Excel and Notepad to prepare the dataset. Save\n",
        "it in Google Drive and access it in Google Colab."
      ],
      "metadata": {
        "id": "sf6QwwRmYOa0"
      }
    }
  ]
}